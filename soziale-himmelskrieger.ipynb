{
 "cells": [
  {
   "cell_type": "markdown",
   "metadata": {},
   "source": [
    "<div style=\"width: 30%; float: right; margin: 10px; margin-right: 5%;\">\n",
    "    <img src=\"https://upload.wikimedia.org/wikipedia/commons/thumb/d/d3/FHNW_Logo.svg/2560px-FHNW_Logo.svg.png\" width=\"500\" style=\"float: left; filter: invert(50%);\"/>\n",
    "</div>\n",
    "\n",
    "<h1 style=\"text-align: left; margin-top: 10px; float: left; width: 60%;\">\n",
    "    Soziale Netzwerke Analysieren Projekt:<br> Raumsonden & Himmelskörper\n",
    "</h1>\n",
    "\n",
    "<p style=\"clear: both; text-align: left;\">\n",
    "    Bearbeitet durch Flurina Riner, Patrick Schürmann, Si Ben Tran im HS 2023.<br>Bachelor of Science FHNW in Data Science.\n",
    "</p>"
   ]
  },
  {
   "cell_type": "markdown",
   "metadata": {},
   "source": [
    "# 1 Setup & Libraries\n",
    "\n",
    "Hier in diesem Abschnitt importieren wir die wichtigsten Libraries für unser Projekt."
   ]
  },
  {
   "cell_type": "code",
   "execution_count": 13,
   "metadata": {},
   "outputs": [
    {
     "name": "stdout",
     "output_type": "stream",
     "text": [
      "The autoreload extension is already loaded. To reload it, use:\n",
      "  %reload_ext autoreload\n"
     ]
    }
   ],
   "source": [
    "# Reload modules\n",
    "%load_ext autoreload\n",
    "%autoreload 2\n",
    "\n",
    "# Standard library\n",
    "from collections import defaultdict\n",
    "\n",
    "# Data manipulation\n",
    "import pandas as pd\n",
    "import numpy as np\n",
    "import json\n",
    "\n",
    "# Visualisation\n",
    "import matplotlib.pyplot as plt\n",
    "\n",
    "# Network\n",
    "import networkx as nx"
   ]
  },
  {
   "cell_type": "markdown",
   "metadata": {},
   "source": [
    "# 2 Explorative Datenanalyse\n",
    "\n",
    "Bewertungskriterien:   \n",
    "Explorative Analysen der verwendeten Daten (Missing Values, Verteilungen, Plausilitätsprüfungen), allfällige Transformationen und Bereinigen oder Ausschliessen von fehlerhaften Daten. Wurde  geprüft, ob die Daten mit den Quelldaten übereinstimmen."
   ]
  },
  {
   "cell_type": "markdown",
   "metadata": {},
   "source": [
    "## 2.1 Daten einlesen"
   ]
  },
  {
   "cell_type": "code",
   "execution_count": 14,
   "metadata": {},
   "outputs": [],
   "source": [
    "# Leere Liste für die Episoden\n",
    "lst_every_episode = []\n",
    "graph_every_episode = []\n",
    "\n",
    "# Loop über alle Episoden\n",
    "for episode in range(1, 8):\n",
    "    filename = f'data/Star Wars/starwars-episode-{episode}-interactions-allCharacters.json'\n",
    "    with open(filename, 'r') as file:\n",
    "        data = json.load(file)\n",
    "\n",
    "        nodes = data['nodes']\n",
    "\n",
    "        df_nodes = pd.DataFrame(nodes)\n",
    "        df_nodes = df_nodes.reset_index(drop=False)\n",
    "        df_nodes = df_nodes.rename(columns={\"index\": \"ID\"})\n",
    "\n",
    "        edges = data['links']\n",
    "        df_edges = pd.DataFrame(edges)\n",
    "\n",
    "        # Liste mit allen Episoden mit Nodes und Edges\n",
    "        lst_every_episode.append((df_nodes, df_edges))\n",
    "\n",
    "        # Graph Initialisieren\n",
    "        G = nx.Graph()\n",
    "\n",
    "        # Knoten und Kanten hinzufügen\n",
    "        for idx, row in df_nodes.iterrows():\n",
    "            G.add_node(row['ID'], label=row['name'], size=row['value'], color=row['colour'])\n",
    "\n",
    "        for idx, row in df_edges.iterrows():\n",
    "            G.add_edge(row['source'], row['target'], weight=row['value'])\n",
    "        \n",
    "        # Graph speichern\n",
    "        graph_every_episode.append(G)"
   ]
  },
  {
   "cell_type": "markdown",
   "metadata": {},
   "source": [
    "## 2.2 Fehlende Werte"
   ]
  },
  {
   "cell_type": "code",
   "execution_count": null,
   "metadata": {},
   "outputs": [],
   "source": []
  },
  {
   "cell_type": "markdown",
   "metadata": {},
   "source": [
    "## 2.3 Verteilungen der Daten"
   ]
  },
  {
   "cell_type": "code",
   "execution_count": null,
   "metadata": {},
   "outputs": [],
   "source": []
  },
  {
   "cell_type": "markdown",
   "metadata": {},
   "source": [
    "## 2.4 Plausibilitätsprüfungen"
   ]
  },
  {
   "cell_type": "code",
   "execution_count": null,
   "metadata": {},
   "outputs": [],
   "source": []
  }
 ],
 "metadata": {
  "language_info": {
   "name": "python"
  }
 },
 "nbformat": 4,
 "nbformat_minor": 2
}
